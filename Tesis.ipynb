{
  "nbformat": 4,
  "nbformat_minor": 0,
  "metadata": {
    "colab": {
      "provenance": [],
      "include_colab_link": true
    },
    "kernelspec": {
      "name": "python3",
      "display_name": "Python 3"
    },
    "language_info": {
      "name": "python"
    }
  },
  "cells": [
    {
      "cell_type": "markdown",
      "metadata": {
        "id": "view-in-github",
        "colab_type": "text"
      },
      "source": [
        "<a href=\"https://colab.research.google.com/github/Angeruizo/Modelopreprocesamiento/blob/main/Tesis.ipynb\" target=\"_parent\"><img src=\"https://colab.research.google.com/assets/colab-badge.svg\" alt=\"Open In Colab\"/></a>"
      ]
    },
    {
      "cell_type": "code",
      "execution_count": null,
      "metadata": {
        "colab": {
          "base_uri": "https://localhost:8080/"
        },
        "id": "ju37x8sM_up8",
        "outputId": "535db8bb-c4d1-41a8-e18a-5fc7094348d4"
      },
      "outputs": [
        {
          "output_type": "stream",
          "name": "stdout",
          "text": [
            "Mounted at /content/drive\n"
          ]
        }
      ],
      "source": [
        "# 1. Montar Drive\n",
        "from google.colab import drive\n",
        "drive.mount('/content/drive')"
      ]
    },
    {
      "cell_type": "code",
      "source": [
        "# 2. Leer imágenes + CSV\n",
        "import pandas as pd\n",
        "import os\n",
        "import cv2\n",
        "import numpy as np\n",
        "\n",
        "ruta_csv = \"/content/drive/MyDrive/Colab_Notebooks/Dataset_Tesis/chd_jaundice_published_2.csv\"\n",
        "ruta_imagenes = \"/content/drive/MyDrive/Colab_Notebooks/Dataset_Tesis/images\"\n",
        "\n",
        "df = pd.read_csv(ruta_csv)\n",
        "df[\"label\"] = df[\"Treatment\"].map({0: \"no_ictericia\", 1: \"ictericia\"})\n",
        "df[\"filename\"] = df[\"image_idx\"]\n",
        "\n"
      ],
      "metadata": {
        "id": "SewkiFi2JFGd"
      },
      "execution_count": null,
      "outputs": []
    },
    {
      "cell_type": "code",
      "source": [
        "# 3. Preprocesamiento paso a paso con OpenCV\n",
        "\n",
        "import cv2 as cv\n",
        "import numpy as np\n",
        "import matplotlib.pyplot as plt\n",
        "\n",
        "def gray_world(img_bgr: np.ndarray) -> np.ndarray:\n",
        "    b,g,r = cv.split(img_bgr.astype(np.float32))\n",
        "    mb,mg,mr = b.mean()+1e-6, g.mean()+1e-6, r.mean()+1e-6\n",
        "    m  = (mb+mg+mr)/3.0\n",
        "    kb,kg,kr = m/mb, m/mg, m/mr\n",
        "    out = cv.merge([np.clip(b*kb,0,255), np.clip(g*kg,0,255), np.clip(r*kr,0,255)]).astype(np.uint8)\n",
        "    return out\n",
        "\n",
        "def clahe_on_L(img_bgr: np.ndarray, clip=2.0, tiles=(8,8)) -> np.ndarray:\n",
        "    lab = cv.cvtColor(img_bgr, cv.COLOR_BGR2LAB)\n",
        "    L,a,b = cv.split(lab)\n",
        "    clahe = cv.createCLAHE(clipLimit=clip, tileGridSize=tiles)\n",
        "    L = clahe.apply(L)\n",
        "    lab = cv.merge([L,a,b])\n",
        "    return cv.cvtColor(lab, cv.COLOR_LAB2BGR)\n",
        "\n",
        "def preprocess_color(img_bgr: np.ndarray) -> np.ndarray:\n",
        "    img = gray_world(img_bgr)\n",
        "    img = clahe_on_L(img, clip=2.0, tiles=(8,8))  # mejora contraste en sombras sin “quemar” colores\n",
        "    return img\n",
        "\n",
        "# 3.1 Segmentación (piel → amarillo en HSV)\n",
        "\n",
        "# A) Máscara de piel robusta (YCrCb ∩ HSV) + exclusión del checker\n",
        "\n",
        "def mask_skin_better(img_bgr: np.ndarray) -> np.ndarray:\n",
        "    # YCrCb (piel)\n",
        "    ycrcb = cv.cvtColor(img_bgr, cv.COLOR_BGR2YCrCb)\n",
        "    lower_ycrcb = np.array([  0,133, 77], np.uint8)\n",
        "    upper_ycrcb = np.array([255,173,127], np.uint8)\n",
        "    m1 = cv.inRange(ycrcb, lower_ycrcb, upper_ycrcb)\n",
        "\n",
        "    # HSV (piel cálida, evitando rojos puros)\n",
        "    hsv = cv.cvtColor(img_bgr, cv.COLOR_BGR2HSV)\n",
        "    lower_hsv = np.array([  0, 20, 50], np.uint8)\n",
        "    upper_hsv = np.array([ 25,220,255], np.uint8)\n",
        "    m2 = cv.inRange(hsv, lower_hsv, upper_hsv)\n",
        "\n",
        "    mask = cv.bitwise_and(m1, m2)\n",
        "\n",
        "    # Excluir colores típicos de checker u objetos saturados (azul, rojo, verde, magenta, amarillo fuerte)\n",
        "    excl  = cv.inRange(hsv, np.array([95,40,40]),  np.array([130,255,255]))   # azul\n",
        "    excl |= cv.inRange(hsv, np.array([0,40,40]),   np.array([10,255,255]))    # rojo 1\n",
        "    excl |= cv.inRange(hsv, np.array([170,40,40]), np.array([180,255,255]))   # rojo 2\n",
        "    excl |= cv.inRange(hsv, np.array([35,40,40]),  np.array([90,255,255]))    # verde\n",
        "    excl |= cv.inRange(hsv, np.array([135,40,40]), np.array([165,255,255]))   # magenta\n",
        "    excl |= cv.inRange(hsv, np.array([20,90,90]),  np.array([40,255,255]))    # amarillo MUY saturado (tarjeta)\n",
        "\n",
        "    mask = cv.bitwise_and(mask, cv.bitwise_not(excl))\n",
        "\n",
        "    # Morfología + componente principal por área y cercanía al centro\n",
        "    k = cv.getStructuringElement(cv.MORPH_ELLIPSE, (7,7))\n",
        "    mask = cv.morphologyEx(mask, cv.MORPH_OPEN,  k, iterations=2)\n",
        "    mask = cv.morphologyEx(mask, cv.MORPH_CLOSE, k, iterations=2)\n",
        "    num, labels, stats, _ = cv.connectedComponentsWithStats(mask, 8)\n",
        "    if num > 1:\n",
        "        h,w = mask.shape; cx,cy = w//2, h//2\n",
        "        best, best_score = 0, -1\n",
        "        for i in range(1, num):\n",
        "            x,y,ww,hh,area = stats[i]\n",
        "            if area < 800: continue\n",
        "            dx,dy = (x+ww/2)-cx, (y+hh/2)-cy\n",
        "            score = area/(np.hypot(dx,dy)+1e-3)\n",
        "            if score > best_score: best, best_score = i, score\n",
        "        mask = np.uint8(labels==best)*255\n",
        "    mask = cv.morphologyEx(mask, cv.MORPH_CLOSE, k, iterations=2)\n",
        "    return mask\n",
        "\n",
        "# B) BGR → HSV y máscara de amarillo adaptativa dentro de la piel\n",
        "\n",
        "def yellow_mask_adaptive(img_bgr: np.ndarray, skin_mask: np.ndarray) -> np.ndarray:\n",
        "    hsv = cv.cvtColor(img_bgr, cv.COLOR_BGR2HSV)\n",
        "    H,S,V = cv.split(hsv)\n",
        "\n",
        "    # Percentiles dentro de piel (ignora fondo y checker)\n",
        "    s_vals = S[skin_mask>0].astype(np.float32)\n",
        "    v_vals = V[skin_mask>0].astype(np.float32)\n",
        "    if len(s_vals) == 0 or len(v_vals) == 0:\n",
        "        return np.zeros_like(skin_mask)\n",
        "\n",
        "    s_min = int(max(40, np.percentile(s_vals, 35)))  # 35º pctl: sube en fotos brillantes, baja en oscuras\n",
        "    v_min = int(max(60, np.percentile(v_vals, 30)))\n",
        "\n",
        "    lower = np.array([15, s_min, v_min], np.uint8)\n",
        "    upper = np.array([35, 255, 255],    np.uint8)\n",
        "\n",
        "    base_mask = cv.inRange(hsv, lower, upper)\n",
        "\n",
        "    # Restringir a piel y limpiar\n",
        "    mask = cv.bitwise_and(base_mask, skin_mask)\n",
        "    k = cv.getStructuringElement(cv.MORPH_ELLIPSE, (5,5))\n",
        "    mask = cv.morphologyEx(mask, cv.MORPH_OPEN,  k, iterations=1)\n",
        "    mask = cv.morphologyEx(mask, cv.MORPH_CLOSE, k, iterations=2)\n",
        "\n",
        "    # Quitar regiones muy pequeñas\n",
        "    num, labels, stats, _ = cv.connectedComponentsWithStats(mask, 8)\n",
        "    keep = np.zeros_like(mask)\n",
        "    for i in range(1, num):\n",
        "        if stats[i, cv.CC_STAT_AREA] >= 300:  # ⚙️ ajusta según resolución\n",
        "            keep[labels==i] = 255\n",
        "    return keep\n",
        "\n",
        "# C) Función de vista previa (original / piel / amarillo superpuesto)\n",
        "\n",
        "def preview_yellow(path):\n",
        "    bgr0 = cv.imread(path); assert bgr0 is not None, path\n",
        "    bgr  = preprocess_color(bgr0)\n",
        "\n",
        "    skin = mask_skin_better(bgr)\n",
        "    yel  = yellow_mask_adaptive(bgr, skin)\n",
        "\n",
        "    # Overlays\n",
        "    over_skin = bgr.copy();  over_skin[skin>0] = (0,255,0)\n",
        "    over_yel  = bgr.copy();  over_yel[yel>0]  = (0,255,255)\n",
        "    blend_s = cv.addWeighted(bgr, 0.6, over_skin, 0.4, 0)\n",
        "    blend_y = cv.addWeighted(bgr, 0.6, over_yel,  0.4, 0)\n",
        "\n",
        "    # Mostrar en RGB\n",
        "    def toRGB(x): return cv.cvtColor(x, cv.COLOR_BGR2RGB)\n",
        "\n",
        "    plt.figure(figsize=(12,4))\n",
        "    plt.subplot(1,3,1); plt.imshow(toRGB(bgr0)); plt.title('Original'); plt.axis('off')\n",
        "    plt.subplot(1,3,2); plt.imshow(toRGB(blend_s)); plt.title('Piel (máscara)'); plt.axis('off')\n",
        "    plt.subplot(1,3,3); plt.imshow(toRGB(blend_y)); plt.title('Amarillo (HSV adaptativo)'); plt.axis('off')\n",
        "    plt.show()\n",
        "\n",
        "\n"
      ],
      "metadata": {
        "id": "q87Mf3FDBU1U"
      },
      "execution_count": null,
      "outputs": []
    }
  ]
}